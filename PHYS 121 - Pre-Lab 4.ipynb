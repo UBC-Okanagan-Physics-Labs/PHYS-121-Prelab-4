{
 "cells": [
  {
   "cell_type": "markdown",
   "id": "f3666087",
   "metadata": {
    "deletable": false,
    "editable": false,
    "tags": []
   },
   "source": [
    "# <div style=\"background-color:rgba(204, 229, 255, 0.5); text-align:center; vertical-align: middle; padding:40px 0; margin-top:30px\"><span style=\"color:rgba(0, 76, 153, 1);\">**PHYS 121 Pre-Lab #4**<span style=\"color:red\"> $\\to$ (5 possible marks)</span> </span></div> \n",
    "# Electric & Hydraulic Circuits – Week 1"
   ]
  },
  {
   "cell_type": "markdown",
   "id": "5c51895c",
   "metadata": {
    "deletable": false,
    "editable": false,
    "tags": []
   },
   "source": [
    "***\n",
    "## Learning Objectives:\n",
    "* <b><span style=\"color:rgba(0, 153, 76, 1);\"> Perform simple operations on DataFrames and arrays in Python.</span></b>"
   ]
  },
  {
   "cell_type": "markdown",
   "id": "c896bfaf",
   "metadata": {
    "deletable": false,
    "editable": false,
    "tags": []
   },
   "source": [
    "***\n",
    "\n",
    "Over the next two weeks, you will work with both electric and hydraulic circuits.  You will see that concepts developed to analyze electrical circuits can also be applied to their hydraulic analogues.  In addition, you will attempt to uncover differences in the behaviour of the two systems and thus identify limitations of the analogy.) \n",
    "\n",
    "In the process, you will be collecting and manipulating data.  As before, a lot of code will be provided for you, but there will be instances where you will be asked to input your own lines of code.  This Pre-Lab is intended to provide a brief review of the kinds of operations you can use in Python and an introduction to how these operations can be applied to DataFrames and/or arrays. "
   ]
  },
  {
   "cell_type": "markdown",
   "id": "11add117",
   "metadata": {
    "deletable": false,
    "editable": false,
    "tags": []
   },
   "source": [
    "***\n",
    "## Autograding:\n",
    "The PHYS 121 Pre-lab assignments and Labs will make use of some autograding.  To make the autograding work, the two cells below needs to be executed.  The first one installs the required packages and the second imports required packages/modules.  If 'PHYS121.Installer()' reports that some functions have been installed, the user should restart the \"kernel\" and then exectute the PHYS121.Installer() cell a second time.  The second time the installer function is run, it should report that **\"All packages already installed. Please proceed\"**.\n",
    "\n",
    "If necessary, the kernel can be restarted by selecting **Kernel** $\\to$ **Restart Kernel** from the menu options at to the top of the page.  Here is a <a href = \"https://cmps-people.ok.ubc.ca/jbobowsk/PHYS_121_Lab/images/restartKernel.gif\">GIF</a> showing how to restart the kernel.\n",
    "\n",
    "The 'PHYS121.Installer()' command requires the file 'PHYS121.py', which you should see included in the list of files along the left-hand side of the screen."
   ]
  },
  {
   "cell_type": "code",
   "execution_count": null,
   "id": "c84d73a0",
   "metadata": {
    "deletable": false,
    "editable": false,
    "tags": []
   },
   "outputs": [],
   "source": [
    "# Import PHYS121.py and then run the installer function.\n",
    "import PHYS121\n",
    "PHYS121.Installer()"
   ]
  },
  {
   "cell_type": "code",
   "execution_count": null,
   "id": "7c40d405",
   "metadata": {
    "deletable": false,
    "editable": false,
    "tags": []
   },
   "outputs": [],
   "source": [
    "# Initialize Otter\n",
    "import otter\n",
    "grader = otter.Notebook(\"PHYS 121 - Pre-Lab 4.ipynb\")"
   ]
  },
  {
   "cell_type": "markdown",
   "id": "bbe106a5",
   "metadata": {
    "deletable": false,
    "editable": false,
    "tags": []
   },
   "source": [
    "***\n",
    "## Import Modules:\n",
    "Execute the cell below to import a number of useful pre-built Python modules that will be used in the PHYS 121 pre-labs and labs."
   ]
  },
  {
   "cell_type": "code",
   "execution_count": null,
   "id": "081738b9",
   "metadata": {},
   "outputs": [],
   "source": [
    "import numpy as np\n",
    "import matplotlib.pyplot as plt\n",
    "import pandas as pd\n",
    "from matplotlib.pyplot import cm # used to generate a sequence of colours for plotting\n",
    "from scipy.optimize import curve_fit\n",
    "from IPython.display import HTML as html_print\n",
    "from IPython.display import display, Markdown, Latex"
   ]
  },
  {
   "cell_type": "markdown",
   "id": "4cffc19a",
   "metadata": {
    "deletable": false,
    "editable": false,
    "tags": []
   },
   "source": [
    "# <div style=\"background-color:rgba(255, 204, 255, 0.5); text-align:center; vertical-align: middle; padding:40px 0; margin-top:30px\"><span style=\"color:rgba(102, 0, 204, 1);\">Part 1 - Basic Operations</span></div>\n",
    "\n",
    "Recall the basic arithmetic operations in Python:"
   ]
  },
  {
   "cell_type": "code",
   "execution_count": null,
   "id": "c71c5490",
   "metadata": {},
   "outputs": [],
   "source": [
    "# Remember: to execute the code cell, select it and press shift + enter\n",
    "\n",
    "# Addition / Subtraction\n",
    "a = 4 + 5\n",
    "b = 2 - 3\n",
    "\n",
    "a, b"
   ]
  },
  {
   "cell_type": "code",
   "execution_count": null,
   "id": "6e21b01c",
   "metadata": {},
   "outputs": [],
   "source": [
    "# Division / Miltiplication\n",
    "x = 10.2 * -4.0\n",
    "y = 2 / 10\n",
    "\n",
    "x, y"
   ]
  },
  {
   "cell_type": "code",
   "execution_count": null,
   "id": "fc50e20b",
   "metadata": {},
   "outputs": [],
   "source": [
    "# Exponentiation\n",
    "s = 12**2\n",
    "\n",
    "s"
   ]
  },
  {
   "cell_type": "markdown",
   "id": "320e0251",
   "metadata": {
    "deletable": false,
    "editable": false,
    "tags": []
   },
   "source": [
    "With NumPy, we aquire a larger set of operations as well as a host of constants to work with. The notation is fairly straight-forward.  Execture the cells below to see how these simple mathematical operations can be implemented."
   ]
  },
  {
   "cell_type": "code",
   "execution_count": null,
   "id": "305dbb9f",
   "metadata": {},
   "outputs": [],
   "source": [
    "# Pi and Euler's number e can be obtained as follows:\n",
    "np.pi, np.e"
   ]
  },
  {
   "cell_type": "code",
   "execution_count": null,
   "id": "489c292f",
   "metadata": {},
   "outputs": [],
   "source": [
    "# Natural logarithm\n",
    "a = np.log(1)\n",
    "b = np.log(np.e)\n",
    "\n",
    "a, b"
   ]
  },
  {
   "cell_type": "code",
   "execution_count": null,
   "id": "5293ab20",
   "metadata": {},
   "outputs": [],
   "source": [
    "# Trigonometric functions\n",
    "c = np.cos(0)\n",
    "d = np.sin(np.pi)\n",
    "e = np.tan(np.pi / 2)\n",
    "\n",
    "c, d, e"
   ]
  },
  {
   "cell_type": "markdown",
   "id": "65c042f7",
   "metadata": {
    "deletable": false,
    "editable": false,
    "tags": []
   },
   "source": [
    "Be cautious when using these functions: they expect the input to be in units of radians. If you have a measurement in degrees, you can convert it to radians in the following way:"
   ]
  },
  {
   "cell_type": "code",
   "execution_count": null,
   "id": "38c7c232",
   "metadata": {},
   "outputs": [],
   "source": [
    "# Convert 180 degrees to radian\n",
    "theta = np.radians(180)\n",
    "f = np.sin(theta)\n",
    "\n",
    "theta, f "
   ]
  },
  {
   "cell_type": "markdown",
   "id": "b592e14e",
   "metadata": {
    "deletable": false,
    "editable": false,
    "tags": []
   },
   "source": [
    "You should also notice the rounding errors in the above. We should have $\\sin\\pi = 0$ and $\\tan(\\pi / 2) = \\infty$, but instead we get something like $1.22\\times10^{-16}$ and $1.63\\times10^{16}$. These kinds of errors occur all the time in floating-point arithmetic, so we sometimes have to be careful about what we're doing. If you're interested, [this article](https://docs.python.org/3/tutorial/floatingpoint.html) covers the phenomenon in more detail, but you shouldn't have to worry too much about it for this lab course. "
   ]
  },
  {
   "cell_type": "markdown",
   "id": "d790d7ee",
   "metadata": {
    "deletable": false,
    "editable": false,
    "tags": []
   },
   "source": [
    "# <div style=\"background-color:rgba(255, 204, 255, 0.5); text-align:center; vertical-align: middle; padding:40px 0; margin-top:30px\"><span style=\"color:rgba(102, 0, 204, 1);\">Part 2 - Operating on Arrays and DataFrames</span></div>\n",
    "\n",
    "Now, suppose we wanted to perform an operation on a set of data. All of the operations discussed above can be performed on entire NumPy arrays or columns from DataFrames. For instance, consider pairwise addition of two datasets:"
   ]
  },
  {
   "cell_type": "code",
   "execution_count": null,
   "id": "705d4828",
   "metadata": {},
   "outputs": [],
   "source": [
    "# When we add two arrays together, the output is another array\n",
    "array1 = np.array([1, 2, 3])\n",
    "array2 = np.array([4, 5, 0])\n",
    "\n",
    "array3 = array1 + array2\n",
    "\n",
    "array3"
   ]
  },
  {
   "cell_type": "markdown",
   "id": "4da03d69",
   "metadata": {
    "deletable": false,
    "editable": false,
    "tags": []
   },
   "source": [
    "First, use the Pandas package (imported above as 'pd') to define a dataframe consisting of two columns."
   ]
  },
  {
   "cell_type": "code",
   "execution_count": null,
   "id": "d3df7cb3",
   "metadata": {},
   "outputs": [],
   "source": [
    "# Define a dataframe called 'df' with two columns\n",
    "df = pd.DataFrame({\"c1\" : [1, 2, 3],\n",
    "                   \"c2\" : [4, 5, 0],\n",
    "                  })\n",
    "\n",
    "# Show the dataframe 'df'\n",
    "df"
   ]
  },
  {
   "cell_type": "markdown",
   "id": "bf829d8d",
   "metadata": {
    "deletable": false,
    "editable": false,
    "tags": []
   },
   "source": [
    "When we add two columns from a dataframe together, the output is an object called a \"series\", which can be used to create an additional column."
   ]
  },
  {
   "cell_type": "code",
   "execution_count": null,
   "id": "d0edd23b",
   "metadata": {},
   "outputs": [],
   "source": [
    "# Create a third column from the sum of the first two \n",
    "df[\"c3\"] = df[\"c1\"] + df[\"c2\"]\n",
    "\n",
    "# Show the updated dataframe 'df' which now has three columns\n",
    "df"
   ]
  },
  {
   "cell_type": "markdown",
   "id": "9c5fb6fd",
   "metadata": {
    "deletable": false,
    "editable": false,
    "tags": []
   },
   "source": [
    "Functions from the NumPy package can be applied to both DataFrames and NumPy arrays."
   ]
  },
  {
   "cell_type": "code",
   "execution_count": null,
   "id": "56dbf6d1",
   "metadata": {},
   "outputs": [],
   "source": [
    "# Trig functions act on each element individually\n",
    "array4 = np.sin(array1)\n",
    "\n",
    "# Display array4\n",
    "array4"
   ]
  },
  {
   "cell_type": "markdown",
   "id": "3e0bfe31",
   "metadata": {
    "deletable": false,
    "editable": false,
    "tags": []
   },
   "source": [
    "Multiplication of arrays or DataFrame columns is performed pairwise.  The output is another array/column of the same size as the original arrays/columns."
   ]
  },
  {
   "cell_type": "code",
   "execution_count": null,
   "id": "0fb4ddef",
   "metadata": {},
   "outputs": [],
   "source": [
    "# Create a fourth column in the 'df' dataframe which is formed from the pairwise product of the elements in the first two columns. \n",
    "df[\"c4\"] = df[\"c2\"] * df[\"c1\"]\n",
    "\n",
    "# Display the dataframe which now has a total of four columns\n",
    "df"
   ]
  },
  {
   "cell_type": "markdown",
   "id": "7d824fcc",
   "metadata": {
    "deletable": false,
    "editable": false,
    "tags": []
   },
   "source": [
    "# <div style=\"background-color:rgba(255, 204, 255, 0.5); text-align:center; vertical-align: middle; padding:40px 0; margin-top:30px\"><span style=\"color:rgba(102, 0, 204, 1);\">Part 3 - Snell's Law Data Analysis</span></div>\n",
    "\n",
    "The following section will guide you through the analysis of some experimental data, giving you an opportunity to practice performing operations on DataFrames. First, a bit of background on optics...\n",
    "\n",
    "**Snell's law** describes the change in direction of light as it passes from one medium to another, called **refraction**. Refer to Fig 1. The incoming light strikes the interface at an angle of $\\theta_1$ from perpendicular (the **angle of incidence**), and the outgoing light leaves at an angle $\\theta_2$ (the **angle of refraction**). The relationship between these angles can be described in terms of the **refractive index** of the materials in question, denoted $n_1$ and $n_2$. Then Snell's law states that\n",
    "\n",
    "\\begin{align}\n",
    "\\frac{\\sin\\theta_1}{\\sin\\theta_2} = \\frac{n_2}{n_1}\n",
    "\\label{eq:snell} \\tag{1}\n",
    "\\end{align}\n",
    "\n",
    "In the figure below $\\sin\\theta_1 > \\sin\\theta_2$, such that medium two must have a larger refractive index than medium one (i.e. $n_2 > n_1$).\n",
    "\n",
    "<p>\n",
    "<center>\n",
    "<img src=\"https://cmps-people.ok.ubc.ca/jbobowsk/PHYS_121_Lab/Lab4/images/snell.svg\" alt=\"image info\" style=\"width: 35%; height: auto;\" /><br>\n",
    "<b>Fig. 1: The refraction of light passing from one medium to another. The incoming light strikes the interface at an angle of $\\theta_1$ from perpendicular, and the outgoing light leaves at an angle $\\theta_2$. The relationship between these angles and the refractive index of the materials is given by Snell's law. </b></center>\n",
    "</p>\n",
    "\n",
    "If the first medium is air, these angles can be measured by shining a beam towards a hemispherical dish made of (or filled with) the second medium, as in Fig. 2. If the beam strikes the centre of the dish, no matter what the angle of refraction $\\theta_2$ is, the beam will exit the dish perpendicular to its surface, and will not be refracted.\n",
    "\n",
    "<p>\n",
    "<center>\n",
    "<img src=\"https://cmps-people.ok.ubc.ca/jbobowsk/PHYS_121_Lab/Lab4/images/snell2.svg\" alt=\"image info\" style=\"width: 45%; height: auto;\" /><br>\n",
    "<b>Fig. 2: The angles $\\theta_1$ and $\\theta_2$ can be measured using a hemispherical dish. </b></center>\n",
    "</p>\n",
    "\n",
    "The refractivity of a meterial can tell you about its composition. For example, the refractive index of seawater will increase as its salinity (or salt concentration) is increased. The code cell below imports some generated \"experimental\" data on a sample of seawater held at $20^\\circ\\rm C$. We are going to analyze this data to determine the index of refraction of the seawater, which can then be used to find the salinity of the water. \n",
    "\n",
    "The data is contained in a file called 'SampleData.csv'.  This file should already appear among the files listed along the left-had side of the screen."
   ]
  },
  {
   "cell_type": "code",
   "execution_count": null,
   "id": "1075c747",
   "metadata": {},
   "outputs": [],
   "source": [
    "# Import the contents of 'SampleData.csv' into a dataframe called 'data'\n",
    "data = pd.read_csv(\"SampleData.csv\")\n",
    "\n",
    "# Display the contents of the 'data' dataframe.\n",
    "data"
   ]
  },
  {
   "cell_type": "markdown",
   "id": "233c57cb",
   "metadata": {
    "deletable": false,
    "editable": false,
    "tags": []
   },
   "source": [
    "### <span style=\"color:purple\">The 'grader.check(...)' statements in this Pre-Lab only check that answers have been entered in the correct format.  They do **NOT** check that you've entered the correct answer.</span> \n",
    "\n",
    "***\n",
    "**<span style=\"color:blue\">Question 3.1</span>**  **<span style=\"color:red\">(1 mark)</span>**\n",
    "\n",
    "First, we will calculate the sine of the angles in the 'theta1' and 'theta2' columns.  These values will be added as new columns to our DataFrame called 'data'. The code cell below does this for 'theta1' column. Use the empty code cell that follows to repeat the process for the 'theta2' column. \n",
    "\n",
    "*** Please do not change any of the variable names in the cells below ***"
   ]
  },
  {
   "cell_type": "code",
   "execution_count": null,
   "id": "f415bacb",
   "metadata": {},
   "outputs": [],
   "source": [
    "# Remember that we must also convert the angles to radians.\n",
    "data[\"sin1\"] = np.sin(np.radians(data[\"theta1\"]))\n",
    "data"
   ]
  },
  {
   "cell_type": "markdown",
   "id": "e42135bd",
   "metadata": {
    "deletable": false,
    "editable": false,
    "tags": []
   },
   "source": [
    "***\n",
    "**<span style=\"color:blue\">Answer 3.1:</span>**"
   ]
  },
  {
   "cell_type": "code",
   "execution_count": null,
   "id": "c7daa12d",
   "metadata": {
    "tags": []
   },
   "outputs": [],
   "source": [
    "# Repeat the process above for the angle of refraction 'theta2'\n",
    "data[\"sin2\"] = ...\n",
    "data"
   ]
  },
  {
   "cell_type": "code",
   "execution_count": null,
   "id": "e0bba479",
   "metadata": {
    "deletable": false,
    "editable": false
   },
   "outputs": [],
   "source": [
    "grader.check(\"Q3.1\")"
   ]
  },
  {
   "cell_type": "markdown",
   "id": "631e533f",
   "metadata": {
    "deletable": false,
    "editable": false,
    "tags": []
   },
   "source": [
    "***\n",
    "**<span style=\"color:blue\">Question 3.2</span>**  **<span style=\"color:red\">(1 mark)</span>**\n",
    "\n",
    "Now, if we calculate the ratio of these angles, we can apply Snell's law to determine the index of refraction of the water using Eq. (1). Using the code cell below, create a new column in the 'data' DataFrame constructed from the ratio of the 'sin1' and 'sin2' columns (i.e. sin1/sin2). \n",
    "\n",
    "*** Please do not change any of the variable names in the cells below ***"
   ]
  },
  {
   "cell_type": "markdown",
   "id": "dca81016",
   "metadata": {
    "deletable": false,
    "editable": false,
    "tags": []
   },
   "source": [
    "***\n",
    "**<span style=\"color:blue\">Answer 3.2:</span>**"
   ]
  },
  {
   "cell_type": "code",
   "execution_count": null,
   "id": "98e7b869",
   "metadata": {
    "tags": []
   },
   "outputs": [],
   "source": [
    "data[\"ratio\"] = ...\n",
    "data"
   ]
  },
  {
   "cell_type": "code",
   "execution_count": null,
   "id": "eff1af61",
   "metadata": {
    "deletable": false,
    "editable": false
   },
   "outputs": [],
   "source": [
    "grader.check(\"Q3.2\")"
   ]
  },
  {
   "cell_type": "markdown",
   "id": "1e3e6522",
   "metadata": {
    "deletable": false,
    "editable": false,
    "tags": []
   },
   "source": [
    "***\n",
    "**<span style=\"color:blue\">Question 3.3</span>**  **<span style=\"color:red\">(1 mark)</span>**\n",
    "\n",
    "The refractive index of air is $1.000227$. Using $n_1 = 1.000227$ and Eq. (1), create a new column in the 'data' dataframe with the exerpimentally-determined value of the refractive index $n_2$ of the seawater.\n",
    "\n",
    "*** Please do not change any of the variable names in the cells below ***"
   ]
  },
  {
   "cell_type": "markdown",
   "id": "d2346613",
   "metadata": {
    "deletable": false,
    "editable": false,
    "tags": []
   },
   "source": [
    "***\n",
    "**<span style=\"color:blue\">Answer 3.3:</span>**"
   ]
  },
  {
   "cell_type": "code",
   "execution_count": null,
   "id": "361b0105",
   "metadata": {
    "tags": []
   },
   "outputs": [],
   "source": [
    "data[\"n2\"] = ...\n",
    "data"
   ]
  },
  {
   "cell_type": "code",
   "execution_count": null,
   "id": "322e8c2d",
   "metadata": {
    "deletable": false,
    "editable": false
   },
   "outputs": [],
   "source": [
    "grader.check(\"Q3.3\")"
   ]
  },
  {
   "cell_type": "markdown",
   "id": "e1b89eed",
   "metadata": {
    "deletable": false,
    "editable": false,
    "tags": []
   },
   "source": [
    "We can take the average value and standard error in the mean for this data directly with Pandas. The syntax for this is \n",
    "\n",
    "```python\n",
    "df[\"column\"].mean()\n",
    "df[\"column\"].sem()\n",
    "```\n",
    "\n",
    "for the mean and standard error, respectively. In the syntax above, 'df' is the name of the dataframe ('data', in our case) and \"column\" needs to be replaced with the name of the column that you are analyzing.\n",
    "\n",
    "***\n",
    "**<span style=\"color:blue\">Question 3.4</span>**  **<span style=\"color:red\">(1 mark)</span>**\n",
    "\n",
    "Use the code cell below to calculate the mean and standard error for the refractive index of our seawater.\n",
    "\n",
    "*** Please do not change any of the variable names in the cells below ***"
   ]
  },
  {
   "cell_type": "markdown",
   "id": "e4002470",
   "metadata": {
    "deletable": false,
    "editable": false,
    "tags": []
   },
   "source": [
    "***\n",
    "**<span style=\"color:blue\">Answer 3.4:</span>**"
   ]
  },
  {
   "cell_type": "code",
   "execution_count": null,
   "id": "6944b955",
   "metadata": {
    "tags": []
   },
   "outputs": [],
   "source": [
    "avg = ...\n",
    "sem = ...\n",
    "\n",
    "print(f\"n_2 = {avg:.4f} +/- {sem:.4f}\")"
   ]
  },
  {
   "cell_type": "code",
   "execution_count": null,
   "id": "5a7b4201",
   "metadata": {
    "deletable": false,
    "editable": false
   },
   "outputs": [],
   "source": [
    "grader.check(\"Q3.4\")"
   ]
  },
  {
   "cell_type": "markdown",
   "id": "2a1f3d33",
   "metadata": {
    "deletable": false,
    "editable": false,
    "tags": []
   },
   "source": [
    "In a 1995 paper, [Quan & Fry](https://opg.optica.org/ao/fulltext.cfm?uri=ao-34-18-3477&id=45728) provide an empirical equation for the refractive index of seawater as a function of salinity, temperature, and the wavelength of light. For a wavelength of light equal to $600\\rm\\ nm$ and a temperature of $10\\rm ^\\circ C$, Quan & Fry's equation becomes\n",
    "\n",
    "\\begin{align}\n",
    "S(n) = 5312.08 n  - 7082.90\n",
    "\\label{eq:salinity} \\tag{2}\n",
    "\\end{align}\n",
    "\n",
    "where $S$ is the salinity in grams per litre.  The uncertainty in the salinity is given by\n",
    "\n",
    "\\begin{align}\n",
    "\\sigma_S = 5312.08 \\sigma_n\n",
    "\\label{eq:salinityerr} \\tag{3}\n",
    "\\end{align}\n",
    "\n",
    "where $\\sigma_n$ is the uncertainty in the refractive index.\n",
    "\n",
    "***\n",
    "**<span style=\"color:blue\">Question 3.5</span>**  **<span style=\"color:red\">(1 mark)</span>**\n",
    "\n",
    "Using the code block below, calculate the salinity of the sample and its uncertainty. \n",
    "\n",
    "*** Please do not change any of the variable names in the cells below ***"
   ]
  },
  {
   "cell_type": "markdown",
   "id": "856cc66c",
   "metadata": {
    "deletable": false,
    "editable": false,
    "tags": []
   },
   "source": [
    "***\n",
    "**<span style=\"color:blue\">Answer 3.5:</span>** "
   ]
  },
  {
   "cell_type": "code",
   "execution_count": null,
   "id": "c85f924f",
   "metadata": {
    "tags": []
   },
   "outputs": [],
   "source": [
    "S = ...\n",
    "errS = ...\n",
    "\n",
    "# Print the results.  The \"{:.2f}\".format() synatx is used to display the results with two decimals of precision.\n",
    "print('S =', \"{:.2f}\".format(S), '+/-', \"{:.2f}\".format(errS), 'g/L')"
   ]
  },
  {
   "cell_type": "code",
   "execution_count": null,
   "id": "84db0e68",
   "metadata": {
    "deletable": false,
    "editable": false
   },
   "outputs": [],
   "source": [
    "grader.check(\"Q3.5\")"
   ]
  },
  {
   "cell_type": "markdown",
   "id": "a89a4c06",
   "metadata": {
    "deletable": false,
    "editable": false,
    "tags": []
   },
   "source": [
    "And that's all there is to it! Now that you understand the basics, you'll be able to apply them in this week's lab."
   ]
  },
  {
   "cell_type": "markdown",
   "id": "54f151df",
   "metadata": {
    "deletable": false,
    "editable": false,
    "tags": []
   },
   "source": [
    "# <div style=\"background-color:rgba(255, 204, 255, 0.5); text-align:center; vertical-align: middle; padding:40px 0; margin-top:30px\"><span style=\"color:rgba(102, 0, 204, 1);\">Part 4 - Feedback and Submission</span></div>"
   ]
  },
  {
   "cell_type": "markdown",
   "id": "524f4295",
   "metadata": {
    "deletable": false,
    "editable": false,
    "tags": []
   },
   "source": [
    "<!-- BEGIN QUESTION -->\n",
    "\n",
    "**<span style=\"color:blue\">Question 4.1</span>**  \n",
    "\n",
    "We welcome your feedback on the PHYS 121 pre-labs!  Please feel free to include any comments you have about this pre-lab in the cell below.  Your comments will be taken into consideration when revising/improving the PHYS 121 labs and pre-labs.  You can suggest improvements, point out anything that was unclear, comment on the strengths and weaknesses of the pre-lab, ...\n",
    "\n",
    "This question is optional and will have no impact on your pre-lab or lab grade."
   ]
  },
  {
   "cell_type": "markdown",
   "id": "4a57088a",
   "metadata": {
    "tags": []
   },
   "source": [
    "***\n",
    "**<span style=\"color:blue\">Answer 4.1:</span>**\n",
    "\n",
    "[//]: # (Please do not delete this comment or anything above it.  Anything below this comment can be deleted.)  \n",
    "\n",
    "Double click this cell and enter your text here.  When done, hit 'Shift' + 'Enter' to execute the cell.  You may delete this text when entering your answer. "
   ]
  },
  {
   "cell_type": "markdown",
   "id": "b2c478e2",
   "metadata": {
    "deletable": false,
    "editable": false,
    "tags": []
   },
   "source": [
    "<!-- END QUESTION -->\n",
    "\n",
    "---\n",
    "\n",
    "To double-check your work, the cell below will rerun all of the autograder tests."
   ]
  },
  {
   "cell_type": "code",
   "execution_count": null,
   "id": "a25f92a2",
   "metadata": {
    "deletable": false,
    "editable": false,
    "tags": []
   },
   "outputs": [],
   "source": [
    "grader.check_all()"
   ]
  },
  {
   "cell_type": "markdown",
   "id": "4bf50e9d",
   "metadata": {
    "deletable": false,
    "editable": false,
    "tags": []
   },
   "source": [
    "***\n",
    "\n",
    "## Submission\n",
    "\n",
    "Make sure you have run all cells in your notebook in order before running the cell below, so that all images/graphs appear in the output. The cell below will generate a zip file for you to submit. **Please save before exporting!**\n",
    "\n",
    "Once you've completed this notebook:\n",
    "- Save your work.\n",
    "- Run 'grader.export()' to generate a .zip file containing all of the materials that you will submit.\n",
    "- Download the generated .zip file.\n",
    "- Upload the .zip file to the PHYS 121 Lab Canvas gradebook.\n",
    "\n",
    "Here is a <a href = \"https://cmps-people.ok.ubc.ca/jbobowsk/phys231/Python/images/Submission.gif\">GIF</a> showing how these steps are completed.  Once your completed notebook has been uploaded to the Canvas gradebook, you're done!"
   ]
  },
  {
   "cell_type": "code",
   "execution_count": null,
   "id": "06353272",
   "metadata": {
    "deletable": false,
    "editable": false,
    "tags": []
   },
   "outputs": [],
   "source": [
    "# Save your notebook first, then run this cell (place your cursor in the cell and then hit Shift + Enter) to export \n",
    "# your submission.  Uploaded the .zip file that is generated to the gradebook of the Canvas shell for the PHYS 121 lab.\n",
    "grader.export()"
   ]
  },
  {
   "cell_type": "markdown",
   "id": "c9017889",
   "metadata": {
    "deletable": false,
    "editable": false,
    "tags": []
   },
   "source": [
    "# <div style=\"background-color:rgba(255, 204, 255, 0.5); text-align:center; vertical-align: middle; padding:40px 0; margin-top:30px\"><span style=\"color:rgba(102, 0, 204, 1);\">Part 5 - Playground (optional)</span></div>\n",
    "\n",
    "Feel free to add as many cells as you like below and use them as a playground for further independent investigations.  These cells won't be graded, so feel free to use them in any way that you like.  For example, you could compare Gaussian distributions with different standard deviations and/or means. "
   ]
  },
  {
   "cell_type": "code",
   "execution_count": null,
   "id": "0d68b157",
   "metadata": {},
   "outputs": [],
   "source": [
    "# Here's an empty code cell that you can use.\n"
   ]
  },
  {
   "cell_type": "code",
   "execution_count": null,
   "id": "5d3f2838",
   "metadata": {},
   "outputs": [],
   "source": [
    "# Here's another empty code cell that you can use.\n"
   ]
  },
  {
   "cell_type": "code",
   "execution_count": null,
   "id": "2df80d87",
   "metadata": {},
   "outputs": [],
   "source": [
    "# Here's yet another empty code cell that you can use.  \n",
    "# If you need more, you can add cells using the '+' icon in the menu bar at to the top of the screen.\n"
   ]
  },
  {
   "cell_type": "markdown",
   "id": "59266d28",
   "metadata": {},
   "source": [
    "***\n",
    "Last update: February 1, 2023"
   ]
  }
 ],
 "metadata": {
  "kernelspec": {
   "display_name": "Python 3 (ipykernel)",
   "language": "python",
   "name": "python3"
  },
  "language_info": {
   "codemirror_mode": {
    "name": "ipython",
    "version": 3
   },
   "file_extension": ".py",
   "mimetype": "text/x-python",
   "name": "python",
   "nbconvert_exporter": "python",
   "pygments_lexer": "ipython3",
   "version": "3.10.6"
  },
  "otter": {
   "OK_FORMAT": true,
   "tests": {
    "Q3.1": {
     "name": "Q3.1",
     "points": null,
     "suites": [
      {
       "cases": [
        {
         "code": ">>> isinstance(data[\"sin2\"], pd.core.series.Series)\nTrue",
         "failure_message": "Your data is not the correct type (Pandas Series). Refer to the syntax above used for data[\"sin1\"] to define data[\"sin2\"].",
         "hidden": false,
         "locked": false,
         "points": 0
        },
        {
         "code": ">>> len(data[\"sin2\"]) == 17\nTrue",
         "failure_message": "Your data is not the correct length. Refer to the syntax above used for data[\"sin1\"] to define data[\"sin2\"].",
         "hidden": false,
         "locked": false,
         "points": 0
        }
       ],
       "scored": true,
       "setup": "",
       "teardown": "",
       "type": "doctest"
      }
     ]
    },
    "Q3.2": {
     "name": "Q3.2",
     "points": null,
     "suites": [
      {
       "cases": [
        {
         "code": ">>> isinstance(data[\"ratio\"], pd.core.series.Series)\nTrue",
         "failure_message": "Your data is not the correct type (Pandas Series).",
         "hidden": false,
         "locked": false,
         "points": 0
        },
        {
         "code": ">>> len(data[\"ratio\"]) == 17\nTrue",
         "failure_message": "Your data is not the correct length.",
         "hidden": false,
         "locked": false,
         "points": 0
        }
       ],
       "scored": true,
       "setup": "",
       "teardown": "",
       "type": "doctest"
      }
     ]
    },
    "Q3.3": {
     "name": "Q3.3",
     "points": null,
     "suites": [
      {
       "cases": [
        {
         "code": ">>> isinstance(data[\"n2\"], pd.core.series.Series)\nTrue",
         "failure_message": "Your data is not the correct type (pandas Series).",
         "hidden": false,
         "locked": false,
         "points": 0
        },
        {
         "code": ">>> len(data[\"n2\"]) == 17\nTrue",
         "failure_message": "Your data is not the correct length.",
         "hidden": false,
         "locked": false,
         "points": 0
        }
       ],
       "scored": true,
       "setup": "",
       "teardown": "",
       "type": "doctest"
      }
     ]
    },
    "Q3.4": {
     "name": "Q3.4",
     "points": null,
     "suites": [
      {
       "cases": [
        {
         "code": ">>> isinstance(avg, float)\nTrue",
         "failure_message": "Your \"avg\" variable is not the correct type (numpy float). Make sure you are using the built in .mean() function listed above.",
         "hidden": false,
         "locked": false,
         "points": 0
        },
        {
         "code": ">>> isinstance(sem, float)\nTrue",
         "failure_message": "Your \"sem\" variable is not the correct type (numpy float). Make sure you are using the built in .sem() function listed above.",
         "hidden": false,
         "locked": false,
         "points": 0
        }
       ],
       "scored": true,
       "setup": "",
       "teardown": "",
       "type": "doctest"
      }
     ]
    },
    "Q3.5": {
     "name": "Q3.5",
     "points": null,
     "suites": [
      {
       "cases": [
        {
         "code": ">>> isinstance(S, float)\nTrue",
         "failure_message": "Your \"S\" variable is not the correct type (numpy float).",
         "hidden": false,
         "locked": false,
         "points": 0
        },
        {
         "code": ">>> isinstance(errS, float)\nTrue",
         "failure_message": "Your \"errS\" variable is not the correct type (numpy float).",
         "hidden": false,
         "locked": false,
         "points": 0
        }
       ],
       "scored": true,
       "setup": "",
       "teardown": "",
       "type": "doctest"
      }
     ]
    }
   }
  },
  "vscode": {
   "interpreter": {
    "hash": "b870ad910a049d8ae52495743c7bc32c2e217ef524f139ca97c6947f4622129b"
   }
  }
 },
 "nbformat": 4,
 "nbformat_minor": 5
}
