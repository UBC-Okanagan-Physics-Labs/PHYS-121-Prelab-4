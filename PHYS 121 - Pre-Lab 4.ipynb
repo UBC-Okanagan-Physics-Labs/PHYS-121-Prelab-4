{
 "cells": [
  {
   "cell_type": "markdown",
   "id": "4e8ac634",
   "metadata": {
    "deletable": false,
    "editable": false,
    "tags": []
   },
   "source": [
    "# <div style=\"background-color:rgba(204, 229, 255, 0.5); text-align:center; vertical-align: middle; padding:40px 0; margin-top:30px\"><span style=\"color:rgba(0, 76, 153, 1);\">**PHYS 121 Pre-Lab #4**<span style=\"color:red\"> $\\to$ (5 possible marks)</span> </span></div> \n",
    "\n",
    "<font size =\"4\"><span style=\"color:purple\">We recommend that you complete this notebook using either the [Google Chrome](https://www.google.com/intl/en_ca/chrome/) or [Mozilla Firefox](https://www.mozilla.org/en-CA/firefox/new/) browser.  Chrome and Firefox are both available for Windows, Mac, and Linux operating systems.  The PHYS 121 Jupyter notebooks should work in other browsers, but we have specifically verfied that they work well in both Chrome and Firefox.</span></font>\n",
    "\n",
    "# Power Laws & Log-Log Plots"
   ]
  },
  {
   "cell_type": "markdown",
   "id": "defe9857",
   "metadata": {
    "deletable": false,
    "editable": false,
    "tags": []
   },
   "source": [
    "***\n",
    "## Learning Objectives:\n",
    "* <b><span style=\"color:rgba(0, 153, 76, 1);\">Interpret data that follow a power law using log-log plots.</span></b>  \n",
    "* <b><span style=\"color:rgba(0, 153, 76, 1);\">Find the power and constant of proportionality of a power law using the slope and intercept of a straight line.</span></b>  "
   ]
  },
  {
   "cell_type": "markdown",
   "id": "176e1fe1",
   "metadata": {
    "deletable": false,
    "editable": false,
    "tags": []
   },
   "source": [
    "***\n",
    "## Autograding:\n",
    "The PHYS 121 Pre-lab assignments and Labs will make use of some autograding.  To make the autograding work, the two cells below need to be executed.  The first one installs the required packages and the second imports required packages/modules.  If 'PHYS121.Installer()' reports that some functions have been installed, the user should execute the PHYS121.Installer() cell a second time.  The second time the installer function is run, it should report that **\"All packages already installed. Please proceed\"**.\n",
    "\n",
    "If necessary, the kernel can be restarted by selecting **Kernel** $\\to$ **Restart Kernel** from the menu options at to the top of the page.  Here is a <a href = \"https://raw.githubusercontent.com/UBC-Okanagan-Physics-Labs/PHYS-121-images/main/general/gifs/restartKernel.gif\">GIF</a> showing how to restart the kernel.\n",
    "\n",
    "The 'PHYS121.Installer()' command requires the file 'PHYS121.py', which you should see included in the list of files along the left-hand side of the screen."
   ]
  },
  {
   "cell_type": "code",
   "execution_count": null,
   "id": "86a415bc",
   "metadata": {
    "deletable": false,
    "editable": false,
    "tags": []
   },
   "outputs": [],
   "source": [
    "# Import PHYS121.py and then run the installer function.\n",
    "import PHYS121\n",
    "PHYS121.Installer()"
   ]
  },
  {
   "cell_type": "code",
   "execution_count": null,
   "id": "34f5d84c",
   "metadata": {
    "deletable": false,
    "editable": false,
    "tags": []
   },
   "outputs": [],
   "source": [
    "# Initialize Otter\n",
    "import otter\n",
    "grader = otter.Notebook(\"PHYS 121 - Pre-Lab 4.ipynb\")"
   ]
  },
  {
   "cell_type": "markdown",
   "id": "585f54bb",
   "metadata": {
    "deletable": false,
    "editable": false,
    "tags": []
   },
   "source": [
    "***\n",
    "## Import Modules:\n",
    "Execute the cell below to import a number of useful pre-built Python modules that will be used in the PHYS 121 pre-labs and labs."
   ]
  },
  {
   "cell_type": "code",
   "execution_count": null,
   "id": "9c98c770",
   "metadata": {},
   "outputs": [],
   "source": [
    "import numpy as np\n",
    "import matplotlib.pyplot as plt\n",
    "from matplotlib.pyplot import cm\n",
    "from matplotlib.pyplot import cm # used to generate a sequence of colours for plotting\n",
    "from scipy.optimize import curve_fit\n",
    "from IPython.display import HTML as html_print\n",
    "from IPython.display import display, Markdown, Latex\n",
    "import random\n",
    "import pandas as pd"
   ]
  },
  {
   "cell_type": "markdown",
   "id": "0aa73720",
   "metadata": {
    "deletable": false,
    "editable": false,
    "tags": []
   },
   "source": [
    "# <div style=\"background-color:rgba(255, 204, 255, 0.5); text-align:center; vertical-align: middle; padding:40px 0; margin-top:30px\"><span style=\"color:rgba(102, 0, 204, 1);\">Part 1 - Introduction to Power Laws</span></div>\n",
    "\n",
    "Many physical phenomena obey <a href = \"https://en.wikipedia.org/wiki/Power_law\">power laws</a>.  A power-law dependence occurs when $y = f(x)$ is of the form:\n",
    "\n",
    "$$\n",
    "y = Ax^n\n",
    "$$  \n",
    "\n",
    "Here, $A$ is a coefficient and $n$ is a power of $x$.  In this example, we can say that $y$ is proportional to $x^n$ $(y\\propto x^n$) and the constant of proportionality is the coefficient $A$.  There are numerous examples of power laws in physics.  Some that you are already familiar with from PHYS 111 and PHYS 121 include:\n",
    "\n",
    " - The displacement $\\Delta x$ of an object that starts from rest $(v_0 = 0)$ and is undergoing constant acceleration $a_\\mathrm{c}$ is given by: \n",
    " <p>\n",
    " $$\n",
    " \\Delta x = \\frac{1}{2}a_\\mathrm{c}t^2\n",
    " $$\n",
    " <p>\n",
    " Here, $\\Delta x\\propto t^2$. The constant of proportionality is $a_\\mathrm{c}/2$ and the power is $n = 2$.\n",
    "\n",
    " - The kinetic energy $K$ of a mass $m$ moving at speed $v$ is: \n",
    " <p>\n",
    " $$\n",
    " K = \\frac{1}{2}mv^2\n",
    " $$\n",
    " <p>\n",
    " Here, $K\\propto v^2$ and $m/2$ is the constant of proportionality and, again, the power is $n = 2$.\n",
    "\n",
    " - The momentum $p$ of a mass $m$ moving at speed $v$ is:\n",
    " <p>\n",
    " $$\n",
    " p = mv\n",
    " $$\n",
    " <p>\n",
    " In this case, $p\\propto v^{1}$ and $m$ is the constant of proportionality and, this time, the power is $n = 1$.  \n",
    "\n",
    " - The magnitude of the force between a pair of point charges $q_1$ and $q_2$ separated by distance $r$ is given by: \n",
    " <p>\n",
    " $$\n",
    " F = k_\\mathrm{e} \\frac{q_1 q_2}{r^2}\n",
    " $$\n",
    " <p>\n",
    " where $k_\\mathrm{e} = 8.99\\times 10^{9}\\rm\\ N m^{2} C^{-2}$.  Here, $F\\propto r^{-2}$ and the constant of proportionality is $k_\\mathrm{e}q_1 q_2$ and, in this case, we have a negative power $n = -2$.  This example is known as the \"inverse-square law\" and also applies to the gravitational attraction between a pair of masses.\n",
    "\n",
    " - The electric potential $V$ due to point charge $Q$ is given by: \n",
    " <p>\n",
    " $$\n",
    " V = k_\\mathrm{e} \\frac{Q}{r}\n",
    " $$  \n",
    " <p>\n",
    " Here, $V\\propto r^{-1}$ and the constant of proportionality is $k_\\mathrm{e} Q$ and the power is $n = -1$.\n",
    "\n",
    " Some other examples that may not be as familiar include:\n",
    " \n",
    " - The <a href = \"https://en.wikipedia.org/wiki/Stefan%E2%80%93Boltzmann_law\">Stefan-Boltzmann law</a> says that the power $P$ radiated by an object at temperature $T$ is given by: \n",
    " <p>\n",
    " $$\n",
    " P=A\\varepsilon\\sigma T^4\n",
    " $$\n",
    " <p>\n",
    " where $\\sigma \\approx 5.67\\times 10^{-8}\\rm\\ W m^{-2} K^{-4}$ is the Stefan-Boltzmann constant, $0\\le\\varepsilon\\le 1$ is called the emissivity of the object,  and $A$ is the object's surface area.  In this example, $P\\propto T^4$ and the constant of proportionality is given by $A\\varepsilon\\sigma$ and the power is  $n = 4$.\n",
    "\n",
    " - One form of <a href = \"http://hyperphysics.phy-astr.gsu.edu/hbase/kepler.html\">Kepler's third low</a> for the period $T$ of a planet in an elliptical orbit around a star of mass $M$ is: \n",
    " <p>\n",
    " $$\n",
    " T = \\sqrt{\\dfrac{4\\pi^2}{GM}}a^{3/2}\n",
    " $$\n",
    " <p>\n",
    " where $G = 6.67\\times 10^{-11}\\rm\\ N m^2 kg^{-2}$ is the gravitational constant and $a$ is known as the semi-major axis of the elliptical orbit.  Here, $T\\propto a^{3/2}$, the constant of proportionality is $\\sqrt{\\dfrac{4\\pi^2}{GM}}$ and we have our first example of a non-integer power $n = 3/2$. \n",
    "\n",
    "As you can see, power laws are ubiquitous in physics, and in science in general.  However, it is important to note that not all physical phenomena follow power laws.  For example, as we will see in PHYS 121, when a capacitor $C$ is discharged through a resistor $R$, the charge $q$ on the capacitor as a function of time is given by:\n",
    "\n",
    "$$\n",
    "q = q_0 e^{-t/\\tau}\\tag{1}\n",
    "$$\n",
    "\n",
    "where $q_0$ is the initial charge on the capacitor at time $t = 0$ and $\\tau = RC$ is the known as the charging/discharging time constant.  Equation (1) shows that $q$ is an *exponential* function of time and does **not** obey power law.\n",
    "\n",
    "Another example of a familiar physical relationship that is **not** in the form if a power law is given by the speed $v$ of an object undergoing constant acceleration $a_\\mathrm{c}$ after it moves through a displacement $\\Delta x$:\n",
    "\n",
    "$$\n",
    "v = \\sqrt{v_0^2 + 2 a_\\mathrm{c} \\Delta x}\\tag{2}\n",
    "$$\n",
    "\n",
    "where $v_0$ is the object's initial speed.  The presence of the term $v_0^2$ under the square root means that $v$ does not have the form of a power law which would require $v = A\\left(\\Delta x\\right)^n$.  <!-- If $v_0 = 0$, then Eq. (2) we become $v = \\sqrt{2 a_\\mathrm{c}}\\left(\\Delta x\\right)^{1/2}$ which is a power law with constant of proportionality $\\sqrt{2 a_\\mathrm{c}}$ and power $n = 1/2$.-->    "
   ]
  },
  {
   "cell_type": "markdown",
   "id": "7bb85a91",
   "metadata": {
    "deletable": false,
    "editable": false,
    "tags": []
   },
   "source": [
    "***\n",
    "**<span style=\"color:blue\">Question 1.1</span>**  **<span style=\"color:red\">(1 mark)</span>**\n",
    "\n",
    "Which of the made-up expressions below is an example of a power law?\n",
    "\n",
    "(a) $y = \\sqrt{2\\pi x^3}$  <br>\n",
    "(b) $y = \\sqrt{2\\pi x^3 + b}$  <br>\n",
    "(c) $y = be^{x^3}$  <br>\n",
    "(d) $y = \\sqrt{2\\pi x^3} + b$  <br>\n",
    "(e) None of the above"
   ]
  },
  {
   "cell_type": "markdown",
   "id": "7cf8638d",
   "metadata": {
    "deletable": false,
    "editable": false,
    "tags": []
   },
   "source": [
    "***\n",
    "**<span style=\"color:blue\">Answer 1.1:</span>**\n",
    "\n",
    "Replace the ... in the cell below with your answer.  Your answer should be a single character (a, b, c, d, or e) between single or double quotes.  \n",
    "*** Please do not change anything to the left of the equals sign. ***"
   ]
  },
  {
   "cell_type": "code",
   "execution_count": null,
   "id": "dc10f33f",
   "metadata": {
    "tags": []
   },
   "outputs": [],
   "source": [
    "a1_1 = ..."
   ]
  },
  {
   "cell_type": "code",
   "execution_count": null,
   "id": "53c9bc8b",
   "metadata": {
    "deletable": false,
    "editable": false
   },
   "outputs": [],
   "source": [
    "PHYS121.graderCheck([a1_1], ['a1_1'], grader.check('Q1.1'))"
   ]
  },
  {
   "cell_type": "markdown",
   "id": "66bce4ee",
   "metadata": {
    "deletable": false,
    "editable": false,
    "tags": []
   },
   "source": [
    "***\n",
    "**<span style=\"color:blue\">Question 1.2</span>**  **<span style=\"color:red\">(1 mark)</span>**\n",
    "\n",
    "For the previous problem (**<span style=\"color:blue\">Question 1.1</span>**), what was the power $n$ for the power law that you identified?"
   ]
  },
  {
   "cell_type": "markdown",
   "id": "1fd107e2",
   "metadata": {
    "deletable": false,
    "editable": false,
    "tags": []
   },
   "source": [
    "***\n",
    "**<span style=\"color:blue\">Answer 1.2:</span>**\n",
    "\n",
    "Replace the ... in the cell below with your answer.  Your answer should be an integer (such as: 2) or a fraction (such as: 1/2).  Do use quotes for this question.   \n",
    "*** Please do not change anything to the left of the equals sign. ***\n",
    "\n",
    "<span style=\"color:purple\">The 'PHYS121.graderCheck(...)' statement for this question only checks that answers have been entered in the correct format.  It does **NOT** check the correctness of your answer.</span> "
   ]
  },
  {
   "cell_type": "code",
   "execution_count": null,
   "id": "30b63a46",
   "metadata": {
    "tags": []
   },
   "outputs": [],
   "source": [
    "a1_2 = ..."
   ]
  },
  {
   "cell_type": "code",
   "execution_count": null,
   "id": "9a097f6f",
   "metadata": {
    "deletable": false,
    "editable": false
   },
   "outputs": [],
   "source": [
    "PHYS121.graderCheck([a1_2], ['a1_2'], grader.check('Q1.2'))"
   ]
  },
  {
   "cell_type": "markdown",
   "id": "11e3bf07",
   "metadata": {
    "deletable": false,
    "editable": false,
    "tags": []
   },
   "source": [
    "# <div style=\"background-color:rgba(255, 204, 255, 0.5); text-align:center; vertical-align: middle; padding:40px 0; margin-top:30px\"><span style=\"color:rgba(102, 0, 204, 1);\">Part 2 - Plotting Power Laws</span></div>\n",
    "\n",
    "In Pre-Lab #1, we generated some random data in an effort to better understand some of the properties of Gaussian-distributed data.  In this pre-lab, we will again generate random data to help us understand some properties of power-laws. We are generating random examples of power laws to emphasize that the properties that we'll discuss apply to all power laws, not just an example that was specially selected.\n",
    "\n",
    "Execute the cell below to produce a set of randomly-generated power laws.  If you find the code below intimidating, don't worry about it.  That's totally understandable.  You do **not** need to read or understand the code below.  We want you to focus on the output of the cell.  The code is included only for the benefit of those that are interested in seeing it.  If, for some reason, you don't like the power-laws that were generated for you, simply execute the cell below as many times as you like until you are satisfied."
   ]
  },
  {
   "cell_type": "code",
   "execution_count": null,
   "id": "1b4a80ab",
   "metadata": {
    "deletable": false,
    "editable": false,
    "tags": []
   },
   "outputs": [],
   "source": [
    "# List of possible powers\n",
    "n_list = [1/2, 1, 3/2, 2, 5/2, 3, 7/2, 4]\n",
    "\n",
    "# Randomly select 3 elements from n_list and convert to an array\n",
    "n_pos = np.array(random.sample(n_list, 3))\n",
    "\n",
    "# Randomly select 2 elements from n_list, change the sign of the elements and convert to an array\n",
    "n_neg = -1*np.array(random.sample(n_list, 2))\n",
    "\n",
    "# Concatenate the randomly-selected powers\n",
    "n = np.concatenate((n_pos, n_neg))\n",
    "\n",
    "# List of possible coefficients/constants of proportionality\n",
    "A_list = [1e-3, 1e-2, 1e-1, 1e0, 1e1, 1e2, 1e3]\n",
    "\n",
    "# Randomly select 5 elements from A_list and convert to an array\n",
    "A = np.array(random.sample(A_list, 5))\n",
    "\n",
    "# Display the randomly-generated power laws in a reasonable format\n",
    "for i in range(5):\n",
    "    print('Power Law #' + str(i + 1) + ':')\n",
    "    display(Latex(f\"\"\"\\\\begin{{equation*}}\n",
    "        y = {{{A[i]}}}x^{{{n[i]}}}\n",
    "        \\\\end{{equation*}}\n",
    "        \"\"\"))\n",
    "    print('\\n')"
   ]
  },
  {
   "cell_type": "markdown",
   "id": "8f728bb4",
   "metadata": {
    "deletable": false,
    "editable": false,
    "tags": []
   },
   "source": [
    "***\n",
    "Next, the cell below will produce some $x$- and $y$-data for each of the power laws and then display the datasets in a DataFrame.  We'll add some small random fluctuations to the $y$-data so as not to produce perfectly ideal datasets.  Again, you only need to execute the cell below to produce the desired datasets and plots."
   ]
  },
  {
   "cell_type": "code",
   "execution_count": null,
   "id": "5b965163",
   "metadata": {
    "deletable": false,
    "editable": false,
    "tags": []
   },
   "outputs": [],
   "source": [
    "# Make an array of x-data\n",
    "x_data = np.array([0.1, 0.2, 0.5, 1, 2, 5, 10, 20, 30, 40, 50, 60, 70, 80, 90, 100])\n",
    "\n",
    "# Insert x_data into a DataFrame.\n",
    "columns = ['x']\n",
    "df = pd.DataFrame(data = x_data, columns = columns)\n",
    "\n",
    "# Used to add some random fluctuations to the data\n",
    "fluct = np.random.normal(1, 0.05, len(x_data))\n",
    "\n",
    "for i in range(5):\n",
    "    y = A[i]*x_data**n[i]*fluct # Generate the y-data for power law i\n",
    "    df['y' + str(i + 1)] = y # Add the y-data to the DataFrame\n",
    "\n",
    "# Display the DataFrame\n",
    "df"
   ]
  },
  {
   "cell_type": "markdown",
   "id": "addb53ea",
   "metadata": {
    "deletable": false,
    "editable": false,
    "tags": []
   },
   "source": [
    "***\n",
    "The cell below generates individual plots for each of the power law datasets."
   ]
  },
  {
   "cell_type": "code",
   "execution_count": null,
   "id": "62e86626",
   "metadata": {
    "deletable": false,
    "editable": false,
    "tags": []
   },
   "outputs": [],
   "source": [
    "# For each of the 5 power laws, construct some corresponding y-data and then plot y versus x for each individually.\n",
    "print('==========================================================================================================')\n",
    "print('Individual plots of the 5 randomly-generated power laws')\n",
    "print('==========================================================================================================')\n",
    "\n",
    "colour = iter(cm.rainbow(np.linspace(0, 1, 5))) # Used to change the colour of the data points for each of the plots\n",
    "for i in range(5):\n",
    "    c = next(colour)\n",
    "    plt.plot(df['x'], df['y' + str(i + 1)], 'o', c = c, markerfacecolor = \"none\") # Plot the power-law data i\n",
    "    plt.legend(['Power Law #%.i' %(i+1)]) # Add a plot legend\n",
    "    plt.xlabel('x')\n",
    "    plt.ylabel('y')\n",
    "    if not i == 4:\n",
    "        plt.figure()"
   ]
  },
  {
   "cell_type": "markdown",
   "id": "868776ca",
   "metadata": {
    "deletable": false,
    "editable": false,
    "tags": []
   },
   "source": [
    "***\n",
    "Notice that the power laws have a variety of different shapes and features.  Positive powers grow large as $x$ increases while negative powers cause $y$ to increase as $x$ decreases.  Also, notice the larger differences in the scales in the $y$-axes.  It is likely the some of the plots span a very large range of $y$ values while others span a much smaller range of values.  You will probably also notice that some plots have a lot of data points clustered together at small values of $x$ making it hard to decipher how the $y$-values of these points vary with respect to one another."
   ]
  },
  {
   "cell_type": "markdown",
   "id": "8b43c4c7",
   "metadata": {
    "deletable": false,
    "editable": false,
    "tags": []
   },
   "source": [
    "# <div style=\"background-color:rgba(255, 204, 255, 0.5); text-align:center; vertical-align: middle; padding:40px 0; margin-top:30px\"><span style=\"color:rgba(102, 0, 204, 1);\">Part 3 - Interpretting Power Laws</span></div>\n",
    "\n",
    "The plots produced in **Part 2** use *linear* scales for the $x$- and $y$-axis.  This means the difference between neighbouring tick marks along an axis are always the same.  For example, in the plots above, the difference between any pair of neighbouring tick marks along the $x$-axis is always $20$. In this section, we'll see that it is possible to plot power laws in another way that, in some cases, can be more convenient.\n",
    "\n",
    "First, let's recall some basic properites of working with logarithms.  If you need it, you can visit this <a href = \"https://math.libretexts.org/Courses/Western_Connecticut_State_University/Draft_Custom_Version_MAT_131_College_Algebra/06%3A_Exponential_and_Logarithmic_Functions/6.05%3A_Logarithmic_Properties\">website</a> for a quick refresher.  \n",
    "\n",
    "The first property we'll make use of is the **Product Rule**:\n",
    "\n",
    "$$\n",
    "\\log\\left(MN\\right) = \\log\\left(M\\right) + \\log\\left(N\\right)\\tag{4}\n",
    "$$\n",
    "\n",
    "and the second property that we'll use is the **Power Rule**:\n",
    "\n",
    "$$\n",
    "\\log\\left(x^n\\right) = n\\log\\left(x\\right)\\tag{5}\n",
    "$$\n",
    "\n",
    "Now, consider a generic power law given by:\n",
    "\n",
    "$$\n",
    "y = A x^n\n",
    "$$\n",
    "\n",
    "Taking the logarithm of both sides leads to:\n",
    "\n",
    "$$\n",
    "\\log(y) = \\log(Ax^n)\\tag{6}\n",
    "$$\n",
    "\n",
    "First, we'll use the **Product Rule** to separate the factors $A$ and $x^n$ on the right-hand side of Eq. (6).  When applying Eq. (4), we can set $M = A$ and $N = x^n$ such that:\n",
    "\n",
    "$$\n",
    "\\log(y) = \\log(A) + \\log(x^n)\\tag{7}\n",
    "$$\n",
    "\n",
    "Next, we can apply the **Power Rule** directly to the second term on the right-hand side of Eq. (7) such that:\n",
    "\n",
    "$$\n",
    "\\log(y) = \\log(A) + n\\log(x)\\tag{8}\n",
    "$$\n",
    "\n",
    "Notice that, from Eq. (8), a plot of $\\log(y)$ versus $\\log(x)$ is a straight line.  The see this, recall that equation of a straight line is given by:\n",
    "\n",
    "$$\n",
    "v = b + m\\, u\n",
    "$$\n",
    "\n",
    "A plot of $v$ versus $u$, would have intercept $b$ and slope $m$.  In Eq. (8), if we set $v = \\log(y)$ and $u = \\log(x)$, the intercept and slope are given by:\n",
    "\n",
    "\\begin{align}\n",
    "b &= \\log(A)\\\\\n",
    "m &= n\n",
    "\\end{align}"
   ]
  },
  {
   "cell_type": "markdown",
   "id": "b8280dc2",
   "metadata": {
    "deletable": false,
    "editable": false,
    "tags": []
   },
   "source": [
    "***\n",
    "**<span style=\"color:blue\">Question 3.1</span>**  **<span style=\"color:red\">(1 mark)</span>**\n",
    "\n",
    "Select any one of the power-law datasets you've generated to analyze."
   ]
  },
  {
   "cell_type": "markdown",
   "id": "061875bc",
   "metadata": {
    "deletable": false,
    "editable": false,
    "tags": []
   },
   "source": [
    "***\n",
    "**<span style=\"color:blue\">Answer 3.1:</span>**\n",
    "\n",
    "Replace the ... in the cell below with your selection.  Your answer should be a single integer (1, 2, 3, 4, or 5).  Do not use quotes for this question. \n",
    "*** Please do not change anything to the left of the equals sign. ***"
   ]
  },
  {
   "cell_type": "code",
   "execution_count": null,
   "id": "13b50297",
   "metadata": {
    "tags": []
   },
   "outputs": [],
   "source": [
    "a3_1 = ..."
   ]
  },
  {
   "cell_type": "code",
   "execution_count": null,
   "id": "10b18223",
   "metadata": {
    "deletable": false,
    "editable": false
   },
   "outputs": [],
   "source": [
    "PHYS121.graderCheck([a3_1], ['a3_1'], grader.check('Q3.1'))"
   ]
  },
  {
   "cell_type": "markdown",
   "id": "62c07f25",
   "metadata": {
    "deletable": false,
    "editable": false,
    "tags": []
   },
   "source": [
    "***\n",
    "The cell below will evaluate $\\log(x)$ and $\\log(y)$ for the dataset you selected, creates and displays new DataFrame, and finally plots the results."
   ]
  },
  {
   "cell_type": "code",
   "execution_count": null,
   "id": "6f30d786",
   "metadata": {
    "deletable": false,
    "editable": false,
    "tags": []
   },
   "outputs": [],
   "source": [
    "# Display the power law that was selected\n",
    "print('You selected Power Law #' + str(a3_1) + ':')\n",
    "display(Latex(f\"\"\"\\\\begin{{equation*}}\n",
    "    y = {{{A[a3_1 - 1]}}}x^{{{n[a3_1 - 1]}}}\n",
    "    \\\\end{{equation*}}\n",
    "    \"\"\"))\n",
    "\n",
    "# Create and display the new DataFrame\n",
    "y_str = 'log(y' + str(a3_1) + ')'\n",
    "df_log = pd.DataFrame(data = np.log10(x_data), columns = ['log(x)'])\n",
    "df_log[y_str] = np.log10(df['y' + str(a3_1)])\n",
    "display(df_log)\n",
    "\n",
    "# Plot the results\n",
    "plt.plot(df_log['log(x)'], df_log[y_str], 'o', c = c, markerfacecolor = \"none\") # Plot the power-law data i\n",
    "plt.legend(['Power Law #%.i' %(a3_1)]) # Add a plot legend\n",
    "plt.xlabel('log(x)')\n",
    "plt.ylabel(y_str);"
   ]
  },
  {
   "cell_type": "markdown",
   "id": "905e8699",
   "metadata": {
    "deletable": false,
    "editable": false,
    "tags": []
   },
   "source": [
    "***\n",
    "Based on the **Part 3** discussion, the plot above should look **linear**.  Notice also that the cluster of points at small values of $x$ are now spaced out which is one advantage of using log-log plots to view data that span a wide range of $x$- and/or $y$-values.\n",
    "\n",
    "Notice also that now the tick marks along the axes show equally-spaced intervals between $\\log(x)$ and $\\log(y)$.  For example, along the $x$-axis the spacing between tick marks is:\n",
    "\n",
    "$$\n",
    "\\log(x_2) - \\log(x_1) = 0.5\n",
    "$$\n",
    "\n",
    "Using the **Quotient Rule** for logs, this observation implies that:\n",
    "\n",
    "$$\n",
    "\\log\\left(\\frac{x_2}{x_1}\\right) = 0.5\\tag{9}\n",
    "$$\n",
    "\n",
    "To eliminate the log on the left-hand side of Eq. (9), we can use the fact that $10^{\\log(x)} = x$ such that:\n",
    "\n",
    "\\begin{align}\n",
    "10^{\\log\\left(x_2/x_1\\right)} &= 10^{0.5}\\\\\n",
    "\\therefore \\frac{x_2}{x_1} &= \\sqrt{10} = 3.16...\n",
    "\\end{align}\n",
    "\n",
    "### Summary:\n",
    "\n",
    " - Linear plots maintain constant differences between tick marks $\\Rightarrow x_2 - x_1 = \\mathrm{constant}$\n",
    " \n",
    " - Log plots maintain constant ratios between tick marks $\\Rightarrow \\dfrac{x_2}{x_1} = \\mathrm{constant}$"
   ]
  },
  {
   "cell_type": "markdown",
   "id": "90eb7d19",
   "metadata": {
    "deletable": false,
    "editable": false,
    "tags": []
   },
   "source": [
    "***\n",
    "**<span style=\"color:blue\">Question 3.2</span>**  **<span style=\"color:red\">(2 marks)</span>**\n",
    "\n",
    "For the power law that you selected, make *approximate* predictions for the slope $m$ and intercept $b$ of the plot produced in **<span style=\"color:blue\">Question 3.1</span>**.  Remember, the slope should be equal to the power $n$ and the intercept should be equal to $\\log(A)$.\n",
    "\n",
    "<span style=\"color:purple\">The 'PHYS121.graderCheck(...)' statement for this question only checks that answers have been entered in the correct format.  It does **NOT** check the correctness of your answer.</span> "
   ]
  },
  {
   "cell_type": "markdown",
   "id": "69a94a90",
   "metadata": {
    "deletable": false,
    "editable": false,
    "tags": []
   },
   "source": [
    "***\n",
    "**<span style=\"color:blue\">Answer 3.2:</span>**\n",
    "\n",
    "Replace the ... in the cell below with your selection.  Your answers should be numbers (integer, fraction, or decimal number).  Do not use quotes for this question. \n",
    "*** Please do not change anything to the left of the equals sign. ***"
   ]
  },
  {
   "cell_type": "code",
   "execution_count": null,
   "id": "0841efc5",
   "metadata": {
    "tags": []
   },
   "outputs": [],
   "source": [
    "m = ...\n",
    "b = ..."
   ]
  },
  {
   "cell_type": "code",
   "execution_count": null,
   "id": "aff5c05b",
   "metadata": {
    "deletable": false,
    "editable": false
   },
   "outputs": [],
   "source": [
    "PHYS121.graderCheck([m, b], ['m', 'b'], grader.check('Q3.2'))"
   ]
  },
  {
   "cell_type": "markdown",
   "id": "90970fa1",
   "metadata": {
    "deletable": false,
    "editable": false,
    "tags": []
   },
   "source": [
    "***\n",
    "Use the cell below to fit the data to a straight line to check your predictions.  If your predictions were incorrect, feel free to go back to **<span style=\"color:blue\">Question 3.2</span>** and adjust them, but make sure you understand why the initial predictions were wrong."
   ]
  },
  {
   "cell_type": "code",
   "execution_count": null,
   "id": "6344b2fd",
   "metadata": {},
   "outputs": [],
   "source": [
    "PHYS121.LinearFit(xData = df_log['log(x)'],\n",
    "                  yData = df_log[y_str],\n",
    "                  xlabel = 'log(x)',\n",
    "                  ylabel = y_str);"
   ]
  },
  {
   "cell_type": "markdown",
   "id": "1fdfebee",
   "metadata": {
    "deletable": false,
    "editable": false,
    "tags": []
   },
   "source": [
    "# <div style=\"background-color:rgba(255, 204, 255, 0.5); text-align:center; vertical-align: middle; padding:40px 0; margin-top:30px\"><span style=\"color:rgba(102, 0, 204, 1);\">Part 4 - Another Advantage of Log-Log Plots</span></div>\n",
    "\n",
    "We won't ask you any more questions in this Pre-Lab, but we do want to highlight one more useful feature of log-log plots.  To do so, first execute the cell below to show all 5 of the randomly-generated power-law datasets on a single plot."
   ]
  },
  {
   "cell_type": "code",
   "execution_count": null,
   "id": "cecba1c0",
   "metadata": {
    "deletable": false,
    "editable": false,
    "tags": []
   },
   "outputs": [],
   "source": [
    "print('==========================================================================================================')\n",
    "print('Single plot that simultaneously shows all five of the randomly-generated power laws')\n",
    "print('==========================================================================================================')\n",
    "\n",
    "colour = iter(cm.rainbow(np.linspace(0, 1, 5)))\n",
    "for i in range(5):\n",
    "    c = next(colour)\n",
    "    plt.plot(df['x'], df['y' + str(i + 1)], 'o', c = c, markerfacecolor = \"none\") # Plot the power-law data i\n",
    "    plt.xlabel('x')\n",
    "    plt.ylabel('y')\n",
    "plt.legend(['Power Law #1', 'Power Law #2', 'Power Law #3','Power Law #4', 'Power Law #5']);"
   ]
  },
  {
   "cell_type": "markdown",
   "id": "746503f9",
   "metadata": {
    "deletable": false,
    "editable": false,
    "tags": []
   },
   "source": [
    "*** \n",
    "In the plot above, you probably can't resolve the $x$-dependencies of all of the individual datasets.  There are probably only one or two of the plots that show a discernable dependence on $x$ while all of the others look more or less flat.\n",
    "\n",
    "Log-log plots provide an elegant way to compare datasets that span wildly different ranges of values.  Execute the cell below to show log-log plots of all $5$ of your datasets on a single graph."
   ]
  },
  {
   "cell_type": "code",
   "execution_count": null,
   "id": "286a2219",
   "metadata": {
    "deletable": false,
    "editable": false,
    "tags": []
   },
   "outputs": [],
   "source": [
    "print('==========================================================================================================')\n",
    "print('Single plot that simultaneously shows all five of the randomly-generated power laws')\n",
    "print('==========================================================================================================')\n",
    "\n",
    "colour = iter(cm.rainbow(np.linspace(0, 1, 5)))\n",
    "for i in range(5):\n",
    "    c = next(colour)\n",
    "    plt.plot(np.log10(df['x']), np.log10(df['y' + str(i + 1)]), 'o', c = c, markerfacecolor = \"none\") # Plot the power-law data i\n",
    "    plt.xlabel('log(x)')\n",
    "    plt.ylabel('log(y)')\n",
    "plt.legend(['Power Law #1', 'Power Law #2', 'Power Law #3','Power Law #4', 'Power Law #5']);"
   ]
  },
  {
   "cell_type": "markdown",
   "id": "f99b50b2",
   "metadata": {
    "deletable": false,
    "editable": false,
    "tags": []
   },
   "source": [
    "***\n",
    "The plot above should show $5$ linear data sets that span many orders of magnitude along both the $x$- and $y$-axes.  Nevertheless, it is easy to observe and compare all of the features of each dataset simultaneously.  We can determine the power $n$ and constant of proportionality $A$ of any one of the datasets simply by finding the slope and intercept of the straight line that passes through the linear set of data points."
   ]
  },
  {
   "cell_type": "markdown",
   "id": "02ebfdf4",
   "metadata": {
    "deletable": false,
    "editable": false,
    "tags": []
   },
   "source": [
    "# <div style=\"background-color:rgba(255, 204, 255, 0.5); text-align:center; vertical-align: middle; padding:40px 0; margin-top:30px\"><span style=\"color:rgba(102, 0, 204, 1);\">Part 5 - Feedback and Submission</span></div>"
   ]
  },
  {
   "cell_type": "markdown",
   "id": "fe7c9f54",
   "metadata": {
    "deletable": false,
    "editable": false,
    "tags": []
   },
   "source": [
    "<!-- BEGIN QUESTION -->\n",
    "\n",
    "**<span style=\"color:blue\">Question 5.1:</span>**  \n",
    "\n",
    "We welcome your feedback on the PHYS 121 pre-labs!  Please feel free to include any comments you have about this pre-lab in the cell below.  Your comments will be taken into consideration when revising/improving the PHYS 121 labs and pre-labs.  You can suggest improvements, point out anything that was unclear, comment on the strengths and weaknesses of the pre-lab, ...\n",
    "\n",
    "This question is optional and will have no impact on your pre-lab or lab grade."
   ]
  },
  {
   "cell_type": "markdown",
   "id": "412510d7",
   "metadata": {
    "tags": []
   },
   "source": [
    "***\n",
    "**<span style=\"color:blue\">Answer 5.1:</span>**\n",
    "\n",
    "[//]: # (Please do not delete this comment or anything above it.  Anything below this comment can be deleted.)  \n",
    "\n",
    "Double click this cell and enter your text here.  When done, hit 'Shift' + 'Enter' to execute the cell.  You may delete this text when entering your answer. "
   ]
  },
  {
   "cell_type": "markdown",
   "id": "ee17802e",
   "metadata": {
    "deletable": false,
    "editable": false,
    "tags": []
   },
   "source": [
    "<!-- END QUESTION -->\n",
    "\n",
    "---\n",
    "\n",
    "To double-check your work, the cell below will rerun all of the autograder tests."
   ]
  },
  {
   "cell_type": "code",
   "execution_count": null,
   "id": "5fa73339",
   "metadata": {
    "deletable": false,
    "editable": false,
    "tags": []
   },
   "outputs": [],
   "source": [
    "grader.check_all()"
   ]
  },
  {
   "cell_type": "markdown",
   "id": "b8e3ebc8",
   "metadata": {
    "deletable": false,
    "editable": false,
    "tags": []
   },
   "source": [
    "***\n",
    "\n",
    "## Submission\n",
    "\n",
    "Make sure you have run all cells in your notebook in order before running the cell below, so that all images/graphs appear in the output. The cell below will generate a zip file for you to submit. **Please save before exporting!**\n",
    "\n",
    "Once you've completed this notebook:\n",
    "- Save your work.\n",
    "- Run 'grader.export()' to generate a .zip file containing all of the materials that you will submit.\n",
    "- Download the generated .zip file.\n",
    "- Upload the .zip file to the PHYS 121 Lab Canvas gradebook.\n",
    "- **Do NOT change the number of the .zip file.**\n",
    "- **Do NOT modify the contents of the .zip file.**\n",
    "\n",
    "Here is a <a href = \"https://raw.githubusercontent.com/UBC-Okanagan-Physics-Labs/PHYS-121-images/main/general/gifs/Submission.gif\">GIF</a> showing how these steps are completed.  Once your completed notebook has been uploaded to the Canvas gradebook, you're done!"
   ]
  },
  {
   "cell_type": "code",
   "execution_count": null,
   "id": "6f1eb33e",
   "metadata": {
    "deletable": false,
    "editable": false,
    "tags": []
   },
   "outputs": [],
   "source": [
    "# Save your notebook first, then run this cell (place your cursor in the cell and then hit Shift + Enter) to export \n",
    "# your submission.  Uploaded the .zip file that is generated to the gradebook of the Canvas shell for the PHYS 121 lab.\n",
    "grader.export(files = ['PHYS121_DataLogger.txt'])"
   ]
  },
  {
   "cell_type": "markdown",
   "id": "852278b1",
   "metadata": {
    "deletable": false,
    "editable": false,
    "tags": []
   },
   "source": [
    "# <div style=\"background-color:rgba(255, 204, 255, 0.5); text-align:center; vertical-align: middle; padding:40px 0; margin-top:30px\"><span style=\"color:rgba(102, 0, 204, 1);\">Part 6 - Playground (optional)</span></div>\n",
    "\n",
    "Feel free to add as many cells as you like below and use them as a playground for further independent investigations.  These cells won't be graded, so feel free to use them in any way that you like.  For example, you could compare Gaussian distributions with different standard deviations and/or means. "
   ]
  },
  {
   "cell_type": "code",
   "execution_count": null,
   "id": "dfc610cc",
   "metadata": {},
   "outputs": [],
   "source": [
    "# Here's an empty code cell that you can use.\n"
   ]
  },
  {
   "cell_type": "code",
   "execution_count": null,
   "id": "19c2375d",
   "metadata": {},
   "outputs": [],
   "source": [
    "# Here's another empty code cell that you can use.\n"
   ]
  },
  {
   "cell_type": "code",
   "execution_count": null,
   "id": "c45a7357",
   "metadata": {},
   "outputs": [],
   "source": [
    "# Here's yet another empty code cell that you can use.  \n",
    "# If you need more, you can add cells using the '+' icon in the menu bar at to the top of the screen.\n"
   ]
  },
  {
   "cell_type": "markdown",
   "id": "a9795beb",
   "metadata": {
    "deletable": false,
    "editable": false,
    "tags": []
   },
   "source": [
    "***  "
   ]
  },
  {
   "cell_type": "markdown",
   "id": "6daa604b",
   "metadata": {
    "deletable": false,
    "editable": false,
    "tags": []
   },
   "source": [
    "<img src=\"https://raw.githubusercontent.com/UBC-Okanagan-Physics-Labs/PHYS-121-images/main/general/images/ubc-logo-full.jpg\" width=\"500\"/>"
   ]
  },
  {
   "cell_type": "markdown",
   "id": "041c8570",
   "metadata": {},
   "source": [
    "Last update: February 21, 2024"
   ]
  }
 ],
 "metadata": {
  "kernelspec": {
   "display_name": "Python 3 (ipykernel)",
   "language": "python",
   "name": "python3"
  },
  "language_info": {
   "codemirror_mode": {
    "name": "ipython",
    "version": 3
   },
   "file_extension": ".py",
   "mimetype": "text/x-python",
   "name": "python",
   "nbconvert_exporter": "python",
   "pygments_lexer": "ipython3",
   "version": "3.10.6"
  },
  "otter": {
   "OK_FORMAT": true,
   "tests": {
    "Q1.1": {
     "name": "Q1.1",
     "points": null,
     "suites": [
      {
       "cases": [
        {
         "code": ">>> a1_1 != ...\nTrue",
         "failure_message": "Replace the ... with your answer.",
         "hidden": false,
         "locked": false,
         "points": 0
        },
        {
         "code": ">>> isinstance(a1_1, str)\nTrue",
         "failure_message": "a1_1 must be a string (i.e. surround your answer by either single or double quotes).",
         "hidden": false,
         "locked": false,
         "points": 0
        },
        {
         "code": ">>> test = True\n>>> if isinstance(a1_1, str):\n...     test = a1_1.lower() in ['a', 'b', 'c', 'd', 'e']\n>>> test\nTrue",
         "failure_message": "a1_1 must be one of 'a', 'b', 'c', 'd', or 'e'.",
         "hidden": false,
         "locked": false,
         "points": 0
        },
        {
         "code": ">>> a1_1.lower() == 'a'\nTrue",
         "failure_message": "Try again. Power laws must be of the form y = Ax^n.",
         "hidden": false,
         "locked": false,
         "points": 1
        }
       ],
       "scored": true,
       "setup": "",
       "teardown": "",
       "type": "doctest"
      }
     ]
    },
    "Q1.2": {
     "name": "Q1.2",
     "points": null,
     "suites": [
      {
       "cases": [
        {
         "code": ">>> isinstance(a1_2, int) or isinstance(a1_2, float)\nTrue",
         "failure_message": "Your answer must be an integer or a fraction.  Do not surround your answer by quotes.",
         "hidden": false,
         "locked": false,
         "points": 0
        }
       ],
       "scored": true,
       "setup": "",
       "teardown": "",
       "type": "doctest"
      }
     ]
    },
    "Q3.1": {
     "name": "Q3.1",
     "points": null,
     "suites": [
      {
       "cases": [
        {
         "code": ">>> isinstance(a3_1, int) and a3_1 in [1, 2, 3, 4, 5]\nTrue",
         "failure_message": "Your answer must be an integer and equal to one of  1, 2, 3, 4, or 5. Do not place quotes around your response.",
         "hidden": false,
         "locked": false,
         "points": 1
        }
       ],
       "scored": true,
       "setup": "",
       "teardown": "",
       "type": "doctest"
      }
     ]
    },
    "Q3.2": {
     "name": "Q3.2",
     "points": null,
     "suites": [
      {
       "cases": [
        {
         "code": ">>> isinstance(m, int) or isinstance(m, float) \nTrue",
         "failure_message": "Your answer for m must be an integer, fraction, or decimal number.",
         "hidden": false,
         "locked": false,
         "points": 0
        },
        {
         "code": ">>> isinstance(b, int) or isinstance(b, float) \nTrue",
         "failure_message": "Your answer for b must be an integer, fraction, or decimal number.",
         "hidden": false,
         "locked": false,
         "points": 0
        },
        {
         "code": ">>> m > -4.05 and m < 4.05\nTrue",
         "failure_message": "Your answer for m must between -4 and +4.",
         "hidden": false,
         "locked": false,
         "points": 1
        },
        {
         "code": ">>> b > -3.05 and b < 3.05\nTrue",
         "failure_message": "Your answer for b must between -3 and +3.",
         "hidden": false,
         "locked": false,
         "points": 1
        }
       ],
       "scored": true,
       "setup": "",
       "teardown": "",
       "type": "doctest"
      }
     ]
    }
   }
  },
  "vscode": {
   "interpreter": {
    "hash": "b870ad910a049d8ae52495743c7bc32c2e217ef524f139ca97c6947f4622129b"
   }
  }
 },
 "nbformat": 4,
 "nbformat_minor": 5
}
